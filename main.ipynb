{
 "cells": [
  {
   "cell_type": "code",
   "execution_count": 29,
   "id": "ca18802d",
   "metadata": {},
   "outputs": [],
   "source": [
    "import pandas as pd "
   ]
  },
  {
   "cell_type": "markdown",
   "id": "62c64c6f",
   "metadata": {},
   "source": [
    "![Modelo](image.png)"
   ]
  },
  {
   "cell_type": "code",
   "execution_count": null,
   "id": "bc396d44",
   "metadata": {},
   "outputs": [
    {
     "data": {
      "text/plain": [
       "'df_aeronaves.shape: (13301, 23)'"
      ]
     },
     "metadata": {},
     "output_type": "display_data"
    },
    {
     "data": {
      "text/plain": [
       "'df_ocorrencias.shape: (13185, 22)'"
      ]
     },
     "metadata": {},
     "output_type": "display_data"
    },
    {
     "data": {
      "text/plain": [
       "'df_merged.shape: (13301, 44)'"
      ]
     },
     "metadata": {},
     "output_type": "display_data"
    }
   ],
   "source": [
    "import pandas as pd\n",
    "\n",
    "df_aeronaves = pd.read_csv('aeronave.csv', sep=';', encoding='latin-1')\n",
    "display(f\"df_aeronaves.shape: {df_aeronaves.shape}\")\n",
    "df_ocorrencias = pd.read_csv('ocorrencia.csv', sep=';', encoding='latin-1')\n",
    "display(f\"df_ocorrencias.shape: {df_ocorrencias.shape}\")\n",
    "\n",
    "df_merged = pd.merge(df_aeronaves, df_ocorrencias, on='codigo_ocorrencia2', how='inner')\n",
    "display(f\"df_merged.shape: {df_merged.shape}\")\n",
    "\n",
    "df_merged.to_csv('merged.csv', sep=';', encoding='utf-8', index=False)\n",
    "\n",
    "df = df_merged.drop(columns=[\n",
    "    \"divulgacao_dia_publicacao\", \n",
    "    \n",
    "])"
   ]
  },
  {
   "cell_type": "code",
   "execution_count": 40,
   "id": "6dbd0ccb",
   "metadata": {},
   "outputs": [
    {
     "name": "stdout",
     "output_type": "stream",
     "text": [
      "<class 'pandas.core.frame.DataFrame'>\n",
      "Index: 8616 entries, 3 to 13300\n",
      "Data columns (total 43 columns):\n",
      " #   Column                          Non-Null Count  Dtype  \n",
      "---  ------                          --------------  -----  \n",
      " 0   codigo_ocorrencia2              8616 non-null   int64  \n",
      " 1   aeronave_matricula              8616 non-null   object \n",
      " 2   aeronave_operador_categoria     8616 non-null   object \n",
      " 3   aeronave_tipo_veiculo           8616 non-null   object \n",
      " 4   aeronave_fabricante             8616 non-null   object \n",
      " 5   aeronave_modelo                 8616 non-null   object \n",
      " 6   aeronave_tipo_icao              8616 non-null   object \n",
      " 7   aeronave_motor_tipo             8616 non-null   object \n",
      " 8   aeronave_motor_quantidade       8616 non-null   object \n",
      " 9   aeronave_pmd                    8616 non-null   float64\n",
      " 10  aeronave_pmd_categoria          8616 non-null   float64\n",
      " 11  aeronave_assentos               8616 non-null   float64\n",
      " 12  aeronave_ano_fabricacao         8616 non-null   float64\n",
      " 13  aeronave_pais_fabricante        8616 non-null   object \n",
      " 14  aeronave_pais_registro          8616 non-null   object \n",
      " 15  aeronave_registro_categoria     8616 non-null   object \n",
      " 16  aeronave_registro_segmento      8616 non-null   object \n",
      " 17  aeronave_voo_origem             8616 non-null   object \n",
      " 18  aeronave_voo_destino            8616 non-null   object \n",
      " 19  aeronave_fase_operacao          8616 non-null   object \n",
      " 20  aeronave_tipo_operacao          8616 non-null   object \n",
      " 21  aeronave_nivel_dano             8616 non-null   object \n",
      " 22  aeronave_fatalidades_total      8616 non-null   float64\n",
      " 23  codigo_ocorrencia               8616 non-null   int64  \n",
      " 24  codigo_ocorrencia1              8616 non-null   int64  \n",
      " 25  codigo_ocorrencia3              8616 non-null   int64  \n",
      " 26  codigo_ocorrencia4              8616 non-null   int64  \n",
      " 27  ocorrencia_classificacao        8616 non-null   object \n",
      " 28  ocorrencia_latitude             8616 non-null   object \n",
      " 29  ocorrencia_longitude            8616 non-null   object \n",
      " 30  ocorrencia_cidade               8616 non-null   object \n",
      " 31  ocorrencia_uf                   8616 non-null   object \n",
      " 32  ocorrencia_pais                 8616 non-null   object \n",
      " 33  ocorrencia_aerodromo            8616 non-null   object \n",
      " 34  ocorrencia_dia                  8616 non-null   object \n",
      " 35  ocorrencia_hora                 8616 non-null   object \n",
      " 36  investigacao_aeronave_liberada  8616 non-null   object \n",
      " 37  investigacao_status             8616 non-null   object \n",
      " 38  divulgacao_relatorio_numero     8616 non-null   object \n",
      " 39  divulgacao_relatorio_publicado  8616 non-null   object \n",
      " 40  total_recomendacoes             8616 non-null   int64  \n",
      " 41  total_aeronaves_envolvidas      8616 non-null   int64  \n",
      " 42  ocorrencia_saida_pista          8616 non-null   object \n",
      "dtypes: float64(5), int64(7), object(31)\n",
      "memory usage: 2.9+ MB\n"
     ]
    }
   ],
   "source": [
    "df.dropna().info()"
   ]
  },
  {
   "cell_type": "code",
   "execution_count": null,
   "id": "e81e3100",
   "metadata": {},
   "outputs": [],
   "source": []
  }
 ],
 "metadata": {
  "kernelspec": {
   "display_name": ".venv",
   "language": "python",
   "name": "python3"
  },
  "language_info": {
   "codemirror_mode": {
    "name": "ipython",
    "version": 3
   },
   "file_extension": ".py",
   "mimetype": "text/x-python",
   "name": "python",
   "nbconvert_exporter": "python",
   "pygments_lexer": "ipython3",
   "version": "3.13.2"
  }
 },
 "nbformat": 4,
 "nbformat_minor": 5
}
